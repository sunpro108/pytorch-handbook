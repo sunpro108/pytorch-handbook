{
 "cells": [
  {
   "cell_type": "code",
   "execution_count": 3,
   "id": "674a67ec-7e87-45d2-807b-e8174de84708",
   "metadata": {
    "tags": []
   },
   "outputs": [],
   "source": [
    "import torch\n",
    "import torch.nn as nn"
   ]
  },
  {
   "cell_type": "code",
   "execution_count": 12,
   "id": "69622422-4e00-4c31-b528-73c71fdc513f",
   "metadata": {
    "tags": []
   },
   "outputs": [],
   "source": [
    "class my_model(nn.Module):\n",
    "    def __init__(self):\n",
    "        super(my_model, self).__init__()\n",
    "        self.conv = nn.Conv2d(1, 1, 3, 1, 1)\n",
    "        self.tensor = torch.randn(size=(1, 1, 5, 5))\n",
    "        self.tensor2 = torch.randn(size=(1, 1))\n",
    "        # self.register_buffer('my_buffer', self.tensor)\n",
    "        self.register_buffer('my_buffer2', self.tensor2)\n",
    "\n",
    "    def forward(self, x):\n",
    "        return self.conv(x) + self.my_buffer2"
   ]
  },
  {
   "cell_type": "code",
   "execution_count": 13,
   "id": "779f8831-bc6d-41c7-b331-6f3260f7587b",
   "metadata": {
    "tags": []
   },
   "outputs": [
    {
     "data": {
      "text/plain": [
       "tensor([[[[ 0.6497,  1.3396,  0.7057,  0.1417,  0.5024],\n",
       "          [ 0.4814, -1.0371,  0.0776,  1.0947, -0.0881],\n",
       "          [ 1.0307,  1.4001,  0.3567,  0.4859,  1.4404],\n",
       "          [ 0.1567, -0.0184,  1.0105,  0.7972,  0.1046],\n",
       "          [ 1.2096,  0.0359,  0.9822,  0.9014, -0.0739]]]], device='cuda:0',\n",
       "       grad_fn=<AddBackward0>)"
      ]
     },
     "execution_count": 13,
     "metadata": {},
     "output_type": "execute_result"
    }
   ],
   "source": [
    "x = torch.randn(size=(1, 1, 5, 5))\n",
    "x = x.to('cuda')\n",
    "model = my_model().cuda()\n",
    "model(x)"
   ]
  },
  {
   "cell_type": "code",
   "execution_count": 14,
   "id": "d67eed35-a8c1-4d05-9cb7-612cc1bcdd2c",
   "metadata": {
    "tags": []
   },
   "outputs": [
    {
     "name": "stdout",
     "output_type": "stream",
     "text": [
      "Parameter containing:\n",
      "tensor([[[[ 0.2236, -0.2558, -0.1165],\n",
      "          [ 0.0659,  0.2993,  0.2647],\n",
      "          [-0.1937, -0.2561, -0.1188]]]], device='cuda:0', requires_grad=True)\n",
      "Parameter containing:\n",
      "tensor([-0.1212], device='cuda:0', requires_grad=True)\n"
     ]
    }
   ],
   "source": [
    "for para in model.parameters():\n",
    "    print(para)"
   ]
  },
  {
   "cell_type": "code",
   "execution_count": 15,
   "id": "17f958c0-1eb9-493d-b952-06db92d246f9",
   "metadata": {
    "tags": []
   },
   "outputs": [
    {
     "name": "stdout",
     "output_type": "stream",
     "text": [
      ".............................................................\n",
      "tensor([[0.7092]], device='cuda:0')\n"
     ]
    }
   ],
   "source": [
    "print('.............................................................')\n",
    "for buff in model.buffers():\n",
    "    print(buff)"
   ]
  },
  {
   "cell_type": "code",
   "execution_count": 16,
   "id": "0beb537b-919c-4157-82cc-097a93b964c3",
   "metadata": {
    "tags": []
   },
   "outputs": [
    {
     "data": {
      "text/plain": [
       "OrderedDict([('my_buffer2', tensor([[0.7092]], device='cuda:0')),\n",
       "             ('conv.weight',\n",
       "              tensor([[[[ 0.2236, -0.2558, -0.1165],\n",
       "                        [ 0.0659,  0.2993,  0.2647],\n",
       "                        [-0.1937, -0.2561, -0.1188]]]], device='cuda:0')),\n",
       "             ('conv.bias', tensor([-0.1212], device='cuda:0'))])"
      ]
     },
     "execution_count": 16,
     "metadata": {},
     "output_type": "execute_result"
    }
   ],
   "source": [
    "model.state_dict()"
   ]
  },
  {
   "cell_type": "code",
   "execution_count": null,
   "id": "16eaed2c-b1f5-4207-87fc-a29ec781918f",
   "metadata": {},
   "outputs": [],
   "source": [
    "# Parameter containing:\n",
    "# tensor([[[[ 0.1019,  0.3182,  0.1563],\n",
    "#           [-0.0207, -0.0562,  0.1807],\n",
    "#           [ 0.2703, -0.1186, -0.2867]]]], device='cuda:0', requires_grad=True)\n",
    "# Parameter containing:\n",
    "# tensor([-0.0992], device='cuda:0', requires_grad=True)\n",
    "# .............................................................\n",
    "# tensor([[[[ 1.3138,  1.3372,  1.6745, -0.8393, -0.1983],\n",
    "#           [-1.3365,  1.0321, -0.7752,  1.4250,  0.9376],\n",
    "#           [-0.9306,  0.1586,  0.5963, -1.0124, -0.6470],\n",
    "#           [ 0.6429, -1.1386,  0.8107, -0.8500,  0.4866],\n",
    "#           [ 0.0342,  1.5359,  0.6636,  0.2488,  0.0490]]]], device='cuda:0')\n",
    "# tensor([[0.7401]], device='cuda:0')"
   ]
  }
 ],
 "metadata": {
  "kernelspec": {
   "display_name": "Python 3 (ipykernel)",
   "language": "python",
   "name": "python3"
  },
  "language_info": {
   "codemirror_mode": {
    "name": "ipython",
    "version": 3
   },
   "file_extension": ".py",
   "mimetype": "text/x-python",
   "name": "python",
   "nbconvert_exporter": "python",
   "pygments_lexer": "ipython3",
   "version": "3.10.11"
  }
 },
 "nbformat": 4,
 "nbformat_minor": 5
}
