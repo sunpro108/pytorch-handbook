{
 "cells": [
  {
   "cell_type": "code",
   "execution_count": 3,
   "id": "5a8942e2-d450-4551-af1a-78c251b9e0a2",
   "metadata": {},
   "outputs": [],
   "source": [
    "import numpy as np\n",
    "import torch"
   ]
  },
  {
   "cell_type": "code",
   "execution_count": 2,
   "id": "72f36c52-f5d4-4819-851b-c630bde6a645",
   "metadata": {},
   "outputs": [
    {
     "data": {
      "text/plain": [
       "'2.0.0+cu117'"
      ]
     },
     "execution_count": 2,
     "metadata": {},
     "output_type": "execute_result"
    }
   ],
   "source": [
    "torch.__version__"
   ]
  },
  {
   "cell_type": "code",
   "execution_count": 6,
   "id": "2d8b9706-d661-4f6f-9786-4c08191c4917",
   "metadata": {},
   "outputs": [],
   "source": [
    "a = torch.arange(12).reshape(3,4)\n",
    "b = a.clone()\n",
    "c = a.clone().reshape(4,3)"
   ]
  },
  {
   "cell_type": "markdown",
   "id": "1c50edbf-e300-4e62-8951-560e73accca0",
   "metadata": {},
   "source": [
    "## torch.mul\n",
    "point-wise "
   ]
  },
  {
   "cell_type": "code",
   "execution_count": 5,
   "id": "0c4744c2-5ef5-474f-830b-7a42925b1fef",
   "metadata": {},
   "outputs": [
    {
     "name": "stdout",
     "output_type": "stream",
     "text": [
      "torch.Size([3, 4])\n"
     ]
    },
    {
     "data": {
      "text/plain": [
       "tensor([[  0,   1,   4,   9],\n",
       "        [ 16,  25,  36,  49],\n",
       "        [ 64,  81, 100, 121]])"
      ]
     },
     "execution_count": 5,
     "metadata": {},
     "output_type": "execute_result"
    }
   ],
   "source": [
    "o_mul = torch.mul(a, b)\n",
    "print(o_mul.shape)\n",
    "o_mul"
   ]
  },
  {
   "cell_type": "markdown",
   "id": "5a9cc960-c2a5-4e9e-959c-c5df9d7e0c4b",
   "metadata": {},
   "source": [
    "## torch.mm\n",
    "\n",
    "matrix mul"
   ]
  },
  {
   "cell_type": "code",
   "execution_count": 7,
   "id": "7056d558-691e-44a8-bb19-7254a8e043af",
   "metadata": {},
   "outputs": [
    {
     "name": "stdout",
     "output_type": "stream",
     "text": [
      "torch.Size([3, 3])\n"
     ]
    },
    {
     "data": {
      "text/plain": [
       "tensor([[ 42,  48,  54],\n",
       "        [114, 136, 158],\n",
       "        [186, 224, 262]])"
      ]
     },
     "execution_count": 7,
     "metadata": {},
     "output_type": "execute_result"
    }
   ],
   "source": [
    "o_mm = torch.mm(a, c)\n",
    "print(o_mm.shape)\n",
    "o_mm"
   ]
  },
  {
   "cell_type": "markdown",
   "id": "ccd82529-6d4a-4d2e-a010-f225ba55ddab",
   "metadata": {},
   "source": [
    "## torch.bmm\n",
    "batch matrix product\n",
    "bmm(A, B)\n",
    "A and B must be 3D which have same dim0 \n",
    "\n",
    "$O_i = A_i \\times B_i$"
   ]
  },
  {
   "cell_type": "code",
   "execution_count": 8,
   "id": "c4009b95-2a30-4c35-a8db-036b86d03632",
   "metadata": {},
   "outputs": [
    {
     "name": "stdout",
     "output_type": "stream",
     "text": [
      "torch.Size([2, 3, 3])\n"
     ]
    },
    {
     "data": {
      "text/plain": [
       "tensor([[[  3,   4,   5],\n",
       "         [  9,  14,  19],\n",
       "         [ 15,  24,  33]],\n",
       "\n",
       "        [[ 99, 112, 125],\n",
       "         [129, 146, 163],\n",
       "         [159, 180, 201]]])"
      ]
     },
     "execution_count": 8,
     "metadata": {},
     "output_type": "execute_result"
    }
   ],
   "source": [
    "o_bmm = torch.bmm(a.reshape(2,3,2), b.reshape(2, 2, 3))\n",
    "print(o_bmm.shape)\n",
    "o_bmm"
   ]
  }
 ],
 "metadata": {
  "kernelspec": {
   "display_name": "Python 3 (ipykernel)",
   "language": "python",
   "name": "python3"
  },
  "language_info": {
   "codemirror_mode": {
    "name": "ipython",
    "version": 3
   },
   "file_extension": ".py",
   "mimetype": "text/x-python",
   "name": "python",
   "nbconvert_exporter": "python",
   "pygments_lexer": "ipython3",
   "version": "3.10.10"
  }
 },
 "nbformat": 4,
 "nbformat_minor": 5
}
