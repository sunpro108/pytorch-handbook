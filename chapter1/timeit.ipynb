{
 "cells": [
  {
   "cell_type": "code",
   "execution_count": 1,
   "id": "4d7abe68-6e85-48af-a793-aeb2807e2ce3",
   "metadata": {
    "tags": []
   },
   "outputs": [],
   "source": [
    "import torch"
   ]
  },
  {
   "cell_type": "code",
   "execution_count": 6,
   "id": "f2204987-090b-4a43-8331-0598ec489d10",
   "metadata": {
    "tags": []
   },
   "outputs": [
    {
     "name": "stdout",
     "output_type": "stream",
     "text": [
      "1.2739520072937012\n"
     ]
    }
   ],
   "source": [
    "start = torch.cuda.Event(enable_timing=True)\n",
    "end = torch.cuda.Event(enable_timing=True)\n",
    "\n",
    "start.record()\n",
    "z = x + y\n",
    "end.record()\n",
    "\n",
    "# Waits for everything to finish running\n",
    "torch.cuda.synchronize()\n",
    "\n",
    "print(start.elapsed_time(end))"
   ]
  },
  {
   "cell_type": "code",
   "execution_count": 10,
   "id": "d8400ff3-f4d3-403a-9e3b-a8cc23934f97",
   "metadata": {
    "tags": []
   },
   "outputs": [
    {
     "name": "stdout",
     "output_type": "stream",
     "text": [
      "---------------------  ------------  ------------  ------------  ------------  ------------  ------------  \n",
      "                 Name    Self CPU %      Self CPU   CPU total %     CPU total  CPU time avg    # of Calls  \n",
      "---------------------  ------------  ------------  ------------  ------------  ------------  ------------  \n",
      "            aten::pow        46.11%       4.897ms        60.97%       6.475ms      64.750us           100  \n",
      "     cudaLaunchKernel        27.99%       2.973ms        27.99%       2.973ms      14.865us           200  \n",
      "           aten::add_        25.84%       2.744ms        39.03%       4.145ms      41.450us           100  \n",
      "    aten::result_type         0.04%       4.000us         0.04%       4.000us       0.040us           100  \n",
      "             aten::to         0.02%       2.000us         0.02%       2.000us       0.020us           100  \n",
      "---------------------  ------------  ------------  ------------  ------------  ------------  ------------  \n",
      "Self CPU time total: 10.620ms\n",
      "\n"
     ]
    },
    {
     "name": "stderr",
     "output_type": "stream",
     "text": [
      "STAGE:2023-04-17 10:55:58 525:525 ActivityProfilerController.cpp:311] Completed Stage: Warm Up\n",
      "STAGE:2023-04-17 10:55:58 525:525 ActivityProfilerController.cpp:317] Completed Stage: Collection\n",
      "STAGE:2023-04-17 10:55:58 525:525 ActivityProfilerController.cpp:321] Completed Stage: Post Processing\n"
     ]
    }
   ],
   "source": [
    "x = torch.randn((1, 1), requires_grad=True).to('cuda')\n",
    "with torch.autograd.profiler.profile(enabled=True) as prof:\n",
    "    for _ in range(100):  # any normal python code, really!\n",
    "        y = x ** 2\n",
    "        y += x\n",
    "print(prof.key_averages().table(sort_by=\"self_cpu_time_total\"))"
   ]
  },
  {
   "cell_type": "code",
   "execution_count": 11,
   "id": "03c80777-75fc-4e91-b751-17d7362fc785",
   "metadata": {
    "tags": []
   },
   "outputs": [
    {
     "name": "stdout",
     "output_type": "stream",
     "text": [
      "-------------------------------------------------------  ------------  ------------  ------------  ------------  ------------  ------------  ------------  ------------  ------------  ------------  \n",
      "                                                   Name    Self CPU %      Self CPU   CPU total %     CPU total  CPU time avg     Self CUDA   Self CUDA %    CUDA total  CUDA time avg    # of Calls  \n",
      "-------------------------------------------------------  ------------  ------------  ------------  ------------  ------------  ------------  ------------  ------------  ------------  ------------  \n",
      "                                       cudaLaunchKernel        47.06%       7.487ms        47.06%       7.487ms      37.435us       0.000us         0.00%       0.000us       0.000us           200  \n",
      "                                              aten::pow        33.12%       5.269ms        68.98%      10.976ms     109.760us     214.000us        51.69%     214.000us       2.140us           100  \n",
      "                                             aten::add_        19.57%       3.113ms        30.92%       4.919ms      49.190us     200.000us        48.31%     200.000us       2.000us           100  \n",
      "                                      aten::result_type         0.16%      25.000us         0.16%      25.000us       0.250us       0.000us         0.00%       0.000us       0.000us           100  \n",
      "                                  cudaDeviceSynchronize         0.10%      16.000us         0.10%      16.000us      16.000us       0.000us         0.00%       0.000us       0.000us             1  \n",
      "                                               aten::to         0.01%       1.000us         0.01%       1.000us       0.010us       0.000us         0.00%       0.000us       0.000us           100  \n",
      "void at::native::vectorized_elementwise_kernel<4, at...         0.00%       0.000us         0.00%       0.000us       0.000us     214.000us        51.69%     214.000us       2.140us           100  \n",
      "void at::native::vectorized_elementwise_kernel<4, at...         0.00%       0.000us         0.00%       0.000us       0.000us     200.000us        48.31%     200.000us       2.000us           100  \n",
      "-------------------------------------------------------  ------------  ------------  ------------  ------------  ------------  ------------  ------------  ------------  ------------  ------------  \n",
      "Self CPU time total: 15.911ms\n",
      "Self CUDA time total: 414.000us\n",
      "\n"
     ]
    },
    {
     "name": "stderr",
     "output_type": "stream",
     "text": [
      "STAGE:2023-04-17 10:58:11 525:525 ActivityProfilerController.cpp:311] Completed Stage: Warm Up\n",
      "STAGE:2023-04-17 10:58:11 525:525 ActivityProfilerController.cpp:317] Completed Stage: Collection\n",
      "STAGE:2023-04-17 10:58:11 525:525 ActivityProfilerController.cpp:321] Completed Stage: Post Processing\n"
     ]
    }
   ],
   "source": [
    "x = torch.randn((1, 1), requires_grad=True).to('cuda')\n",
    "with torch.profiler.profile(activities=[torch.profiler.ProfilerActivity.CPU, torch.profiler.ProfilerActivity.CUDA]) as prof:\n",
    "    for _ in range(100):  # any normal python code, really!\n",
    "        y = x ** 2\n",
    "        y += x\n",
    "# print(prof.key_averages().table(sort_by=\"self_cuda_time_total\", row_limit=10）)\n",
    "\n",
    "print(prof.key_averages(group_by_input_shape=True).table(sort_by=\"self_cpu_time_total\"))"
   ]
  }
 ],
 "metadata": {
  "kernelspec": {
   "display_name": "Python 3 (ipykernel)",
   "language": "python",
   "name": "python3"
  },
  "language_info": {
   "codemirror_mode": {
    "name": "ipython",
    "version": 3
   },
   "file_extension": ".py",
   "mimetype": "text/x-python",
   "name": "python",
   "nbconvert_exporter": "python",
   "pygments_lexer": "ipython3",
   "version": "3.10.10"
  }
 },
 "nbformat": 4,
 "nbformat_minor": 5
}
