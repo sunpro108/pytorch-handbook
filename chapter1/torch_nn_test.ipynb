{
 "cells": [
  {
   "cell_type": "code",
   "execution_count": 3,
   "id": "d33cba45-f285-49f8-8ecf-a971f349d13c",
   "metadata": {},
   "outputs": [
    {
     "data": {
      "text/plain": [
       "'2.1.1+cu121'"
      ]
     },
     "execution_count": 3,
     "metadata": {},
     "output_type": "execute_result"
    }
   ],
   "source": [
    "import torch\n",
    "import torch.nn as nn\n",
    "torch.__version__"
   ]
  },
  {
   "cell_type": "code",
   "execution_count": 8,
   "id": "63c0b295-d890-444f-9df4-ca92f55d3422",
   "metadata": {},
   "outputs": [],
   "source": [
    "# an Embedding module containing 10 tensors of size 3\n",
    "embedding = nn.Embedding(10, 3)\n",
    "# num_embeddings (int) – size of the dictionary of embeddings\n",
    "# embedding_dim (int) – the size of each embedding vector"
   ]
  },
  {
   "cell_type": "markdown",
   "id": "ae623b94-c729-4a82-917f-d400ce769661",
   "metadata": {},
   "source": [
    "**weight (Tensor)**  \n",
    "the learnable weights of the module of shape (num_embeddings, embedding_dim) initialized from $\\mathcal{N}(0, 1)$"
   ]
  },
  {
   "cell_type": "code",
   "execution_count": 12,
   "id": "44e802d1-2039-4b7d-b6e8-e4919924e111",
   "metadata": {},
   "outputs": [
    {
     "data": {
      "text/plain": [
       "Parameter containing:\n",
       "tensor([[ 1.4514, -0.1529,  0.9000],\n",
       "        [ 1.0890,  1.1874,  0.0591],\n",
       "        [-0.3689, -1.9050,  1.8975],\n",
       "        [ 0.1008, -1.9508,  0.7087],\n",
       "        [-0.6662, -0.1594,  0.6227],\n",
       "        [ 0.5339,  2.3852, -0.7213],\n",
       "        [-1.6299,  1.2636, -0.1996],\n",
       "        [ 1.0740, -0.6117,  1.4679],\n",
       "        [ 0.3938, -1.2449, -0.1087],\n",
       "        [-0.5494, -0.6781,  0.5931]], requires_grad=True)"
      ]
     },
     "execution_count": 12,
     "metadata": {},
     "output_type": "execute_result"
    }
   ],
   "source": [
    "embedding.weight"
   ]
  },
  {
   "cell_type": "code",
   "execution_count": 13,
   "id": "2a3b3ca0-61d2-4d53-96d8-ae7e5b5209f2",
   "metadata": {},
   "outputs": [
    {
     "data": {
      "text/plain": [
       "tensor([[[ 1.0890,  1.1874,  0.0591],\n",
       "         [-0.3689, -1.9050,  1.8975],\n",
       "         [-0.6662, -0.1594,  0.6227],\n",
       "         [ 0.5339,  2.3852, -0.7213]],\n",
       "\n",
       "        [[-0.6662, -0.1594,  0.6227],\n",
       "         [ 0.1008, -1.9508,  0.7087],\n",
       "         [-0.3689, -1.9050,  1.8975],\n",
       "         [-0.5494, -0.6781,  0.5931]]], grad_fn=<EmbeddingBackward0>)"
      ]
     },
     "execution_count": 13,
     "metadata": {},
     "output_type": "execute_result"
    }
   ],
   "source": [
    "# a batch of 2 samples of 4 indices each\n",
    "input = torch.LongTensor([[1, 2, 4, 5], [4, 3, 2, 9]])\n",
    "embedding(input)"
   ]
  },
  {
   "cell_type": "code",
   "execution_count": 14,
   "id": "d7475857-ab9f-4642-bdbe-91709401ea6e",
   "metadata": {},
   "outputs": [
    {
     "data": {
      "text/plain": [
       "Parameter containing:\n",
       "tensor([[ 0.0000,  0.0000,  0.0000],\n",
       "        [ 0.8475, -1.8647, -1.2478],\n",
       "        [-0.2338,  0.3185, -1.1883],\n",
       "        [-0.7653,  0.1575,  1.1594],\n",
       "        [ 0.3000, -0.6165,  0.1131],\n",
       "        [ 1.2430, -1.4505,  0.5493],\n",
       "        [ 0.9537, -0.8129,  0.5127],\n",
       "        [ 0.2310,  2.2952,  1.0959],\n",
       "        [ 0.6148,  0.9893, -2.5490],\n",
       "        [ 0.3897,  0.0713,  1.7416]], requires_grad=True)"
      ]
     },
     "execution_count": 14,
     "metadata": {},
     "output_type": "execute_result"
    }
   ],
   "source": [
    "# example with padding_idx\n",
    "embedding = nn.Embedding(10, 3, padding_idx=0)\n",
    "embedding.weight"
   ]
  },
  {
   "cell_type": "code",
   "execution_count": 15,
   "id": "db0106dd-b6c3-4543-aa61-b22a92aca2c9",
   "metadata": {},
   "outputs": [
    {
     "data": {
      "text/plain": [
       "tensor([[[ 0.0000,  0.0000,  0.0000],\n",
       "         [-0.2338,  0.3185, -1.1883],\n",
       "         [ 0.0000,  0.0000,  0.0000],\n",
       "         [ 1.2430, -1.4505,  0.5493]]], grad_fn=<EmbeddingBackward0>)"
      ]
     },
     "execution_count": 15,
     "metadata": {},
     "output_type": "execute_result"
    }
   ],
   "source": [
    "input = torch.LongTensor([[0, 2, 0, 5]])\n",
    "embedding(input)"
   ]
  },
  {
   "cell_type": "code",
   "execution_count": 6,
   "id": "ad00faa4-0d01-4907-8d0c-07acd62308c8",
   "metadata": {},
   "outputs": [
    {
     "data": {
      "text/plain": [
       "Parameter containing:\n",
       "tensor([[ 1.0000,  1.0000,  1.0000],\n",
       "        [-0.2458,  1.0273,  1.0195],\n",
       "        [ 0.8632, -0.2585,  1.0999]], requires_grad=True)"
      ]
     },
     "execution_count": 6,
     "metadata": {},
     "output_type": "execute_result"
    }
   ],
   "source": [
    "# example of changing `pad` vector\n",
    "padding_idx = 0\n",
    "embedding = nn.Embedding(3, 3, padding_idx=padding_idx)\n",
    "embedding.weight\n",
    "with torch.no_grad():\n",
    "    embedding.weight[padding_idx] = torch.ones(3)\n",
    "embedding.weight"
   ]
  },
  {
   "cell_type": "markdown",
   "id": "c8981fa1-c7bf-4d2c-8abd-6f78e023ee73",
   "metadata": {},
   "source": [
    "## from_pretrained"
   ]
  },
  {
   "cell_type": "code",
   "execution_count": 7,
   "id": "7b285560-c7b6-4383-97aa-82b4b691c147",
   "metadata": {},
   "outputs": [
    {
     "data": {
      "text/plain": [
       "tensor([[4.0000, 5.1000, 6.3000]])"
      ]
     },
     "execution_count": 7,
     "metadata": {},
     "output_type": "execute_result"
    }
   ],
   "source": [
    "# FloatTensor containing pretrained weights\n",
    "weight = torch.FloatTensor([[1, 2.3, 3], [4, 5.1, 6.3]])\n",
    "embedding = nn.Embedding.from_pretrained(weight)\n",
    "# Get embeddings for index 1\n",
    "input = torch.LongTensor([1])\n",
    "embedding(input)"
   ]
  }
 ],
 "metadata": {
  "kernelspec": {
   "display_name": "Python 3 (ipykernel)",
   "language": "python",
   "name": "python3"
  },
  "language_info": {
   "codemirror_mode": {
    "name": "ipython",
    "version": 3
   },
   "file_extension": ".py",
   "mimetype": "text/x-python",
   "name": "python",
   "nbconvert_exporter": "python",
   "pygments_lexer": "ipython3",
   "version": "3.10.13"
  }
 },
 "nbformat": 4,
 "nbformat_minor": 5
}
