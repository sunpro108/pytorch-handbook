{
 "cells": [
  {
   "cell_type": "code",
   "execution_count": 2,
   "id": "3118ba66-3518-42d1-9e7f-30f41c237cc5",
   "metadata": {
    "tags": []
   },
   "outputs": [],
   "source": [
    "import torch"
   ]
  },
  {
   "cell_type": "code",
   "execution_count": 3,
   "id": "a2953d3d-4bb6-421f-90b6-7a579bb6e554",
   "metadata": {
    "tags": []
   },
   "outputs": [
    {
     "data": {
      "text/plain": [
       "[tensor([0, 0]), tensor([0, 0])]"
      ]
     },
     "execution_count": 3,
     "metadata": {},
     "output_type": "execute_result"
    }
   ],
   "source": [
    "# All tensors below are of torch.int64 dtype.\n",
    "# We have 2 process groups, 2 ranks.\n",
    "tensor_list = [torch.zeros(2, dtype=torch.int64) for _ in range(2)]\n",
    "tensor_list"
   ]
  },
  {
   "cell_type": "code",
   "execution_count": null,
   "id": "ccad90dc-e4e6-4645-b562-337588727f85",
   "metadata": {},
   "outputs": [],
   "source": [
    "tensor = torch.arange(2, dtype=torch.int64) + 1 + 2 * rank\n",
    "tensor"
   ]
  },
  {
   "cell_type": "code",
   "execution_count": null,
   "id": "5dda2295-f967-4b41-8328-ec56025a1638",
   "metadata": {},
   "outputs": [],
   "source": [
    "dist.all_gather(tensor_list, tensor)\n",
    "tensor_list"
   ]
  }
 ],
 "metadata": {
  "kernelspec": {
   "display_name": "Python 3 (ipykernel)",
   "language": "python",
   "name": "python3"
  },
  "language_info": {
   "codemirror_mode": {
    "name": "ipython",
    "version": 3
   },
   "file_extension": ".py",
   "mimetype": "text/x-python",
   "name": "python",
   "nbconvert_exporter": "python",
   "pygments_lexer": "ipython3",
   "version": "3.10.10"
  }
 },
 "nbformat": 4,
 "nbformat_minor": 5
}
