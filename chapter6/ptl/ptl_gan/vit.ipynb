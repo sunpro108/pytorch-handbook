{
 "cells": [
  {
   "cell_type": "code",
   "execution_count": 1,
   "metadata": {},
   "outputs": [
    {
     "name": "stderr",
     "output_type": "stream",
     "text": [
      "Global seed set to 42\n"
     ]
    },
    {
     "data": {
      "text/plain": [
       "42"
      ]
     },
     "execution_count": 1,
     "metadata": {},
     "output_type": "execute_result"
    }
   ],
   "source": [
    "import os\n",
    "from typing import Optional\n",
    "import torch \n",
    "import torch.nn as nn \n",
    "import torch.nn.functional as F \n",
    "from torch.utils.data import DataLoader, random_split\n",
    "import torchvision \n",
    "from torchvision import transforms \n",
    "from torchvision.datasets import CIFAR10\n",
    "\n",
    "import pytorch_lightning as pl\n",
    "from  pytorch_lightning import LightningDataModule,LightningModule \n",
    "os.environ[\"TORCH_HOME\"] = \"/root/data/torch_home\"\n",
    "os.environ[\"CUDA_DEVICE_ORDER\"] = \"PCI_BUS_ID\"\n",
    "os.environ[\"CUDA_VISIBLE_DEVICES\"]  = \"0,1\"\n",
    "torch.backends.cudnn.benchmark = False\n",
    "torch.backends.cudnn.determinstic = True\n",
    "pl.seed_everything(42)\n"
   ]
  },
  {
   "cell_type": "code",
   "execution_count": 11,
   "metadata": {},
   "outputs": [],
   "source": [
    "DATASET_PATH = os.path.join(os.environ.get(\"TORCH_HOME\",'./'),'cifar')\n",
    "BATCH_SIZE = 128\n",
    "NUM_WORKERS = 4"
   ]
  },
  {
   "cell_type": "code",
   "execution_count": 12,
   "metadata": {},
   "outputs": [],
   "source": [
    "class CIFARDataModule(LightningDataModule):\n",
    "    def __init__(\n",
    "        self,\n",
    "        data_dir: str,\n",
    "        batch_size: int,\n",
    "        num_workers: int \n",
    "    ):\n",
    "        super().__init__()\n",
    "        self.data_dir = data_dir\n",
    "        self.batch_size = batch_size\n",
    "        self.num_workers = num_workers \n",
    "\n",
    "        self.test_transforms = transforms.Compose(\n",
    "            [\n",
    "                transforms.ToTensor(),\n",
    "                transforms.Normalize([0.49139968, 0.48215841, 0.44653091], [0.24703223, 0.24348513, 0.26158784])\n",
    "            ]\n",
    "        )\n",
    "        self.train_transforms = transforms.Compose(\n",
    "            [\n",
    "                transforms.RandomHorizontalFlip(),\n",
    "                transforms.RandomResizedCrop((32,32),scale=(0.8,1.0), ratio=(0.9,1.1)),\n",
    "                transforms.ToTensor(),\n",
    "                transforms.Normalize([0.49139968, 0.48215841, 0.44653091], [0.24703223, 0.24348513, 0.26158784])\n",
    "            ]\n",
    "        )\n",
    "\n",
    "    def prepare_data(self) -> None: # \n",
    "        CIFAR10(self.data_dir, train=True, download=False)\n",
    "        CIFAR10(self.data_dir, train=False, download=False)\n",
    "\n",
    "    def setup(self, stage: Optional[str] = None) -> None:\n",
    "        if stage == 'fit' or stage is None:\n",
    "            cifar_full = CIFAR10(self.data_dir, train=True, transform=self.train_transforms)\n",
    "            self.train_data, self.val_data = random_split(cifar_full, [45000,5000])\n",
    "        if stage == 'test' or stage is None:\n",
    "            self.test_data = CIFAR10(self.data_dir, train=False, transform = self.test_transforms)\n",
    "\n",
    "    def data_example(self):\n",
    "        #self.prepare_data()\n",
    "        self.setup()\n",
    "        return self.train_data\n",
    "\n",
    "    def train_dataloader(self) :\n",
    "        return DataLoader(self.train_data, batch_size=self.batch_size, shuffle=True, drop_last=True, pin_memory=True, num_workers=self.num_workers)\n",
    "\n",
    "    def val_dataloader(self) :\n",
    "        return DataLoader(self.val_data, batch_size = self.batch_size, shuffle=True, drop_last=False, num_workers=self.num_workers) \n",
    "\n",
    "    def test_dataloader(self):\n",
    "        return DataLoader(self.test_data, batch_size=self.batch_size, shuffle=True, drop_last=True, pin_memory=True, num_workers=self.num_workers)"
   ]
  },
  {
   "cell_type": "code",
   "execution_count": 13,
   "metadata": {},
   "outputs": [],
   "source": [
    "dm = CIFARDataModule(DATASET_PATH, BATCH_SIZE, NUM_WORKERS)"
   ]
  },
  {
   "cell_type": "code",
   "execution_count": 14,
   "metadata": {},
   "outputs": [
    {
     "name": "stderr",
     "output_type": "stream",
     "text": [
      "/root/data/venv/v_ptl/lib/python3.6/site-packages/pytorch_lightning/core/datamodule.py:153: LightningDeprecationWarning: DataModule property `test_transforms` was deprecated in v1.5 and will be removed in v1.7.\n",
      "  \"DataModule property `test_transforms` was deprecated in v1.5 and will be removed in v1.7.\"\n"
     ]
    }
   ],
   "source": [
    "# visual some example\n",
    "train_set = dm.data_example()"
   ]
  },
  {
   "cell_type": "code",
   "execution_count": 15,
   "metadata": {},
   "outputs": [
    {
     "data": {
      "text/plain": [
       "<torch.utils.data.dataloader.DataLoader at 0x7f383fe6b6a0>"
      ]
     },
     "execution_count": 15,
     "metadata": {},
     "output_type": "execute_result"
    }
   ],
   "source": [
    "dm.train_dataloader()"
   ]
  }
 ],
 "metadata": {
  "interpreter": {
   "hash": "fb5282727ef589ee08e59e7fc6ea9ada23c9eeb7c59a41ae982e41a853ca09f5"
  },
  "kernelspec": {
   "display_name": "Python 3",
   "language": "python",
   "name": "python3"
  },
  "language_info": {
   "codemirror_mode": {
    "name": "ipython",
    "version": 3
   },
   "file_extension": ".py",
   "mimetype": "text/x-python",
   "name": "python",
   "nbconvert_exporter": "python",
   "pygments_lexer": "ipython3",
   "version": "3.6.9"
  }
 },
 "nbformat": 4,
 "nbformat_minor": 4
}
